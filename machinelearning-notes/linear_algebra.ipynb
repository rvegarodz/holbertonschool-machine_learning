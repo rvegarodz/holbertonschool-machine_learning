{
 "cells": [
  {
   "cell_type": "markdown",
   "metadata": {},
   "source": [
    "\n",
    "# Linear Algebra\n",
    "\n",
    "- What is a vector?\n",
    "    - https://www.youtube.com/watch?v=fNk_zzaMoSs\n",
    "- What is a matrix?\n",
    "    - https://math.stackexchange.com/questions/2782717/what-exactly-is-a-matrix\n",
    "- What is a transpose?\n",
    "- What is the shape of a matrix?\n",
    "- What is an axis?\n",
    "- What is a slice?\n",
    "- How do you slice a vector/matrix?\n",
    "- What are element-wise operations?\n",
    "- How do you concatenate vectors/matrices?\n",
    "- What is the dot product?\n",
    "- What is matrix multiplication?\n",
    "- What is Numpy?\n",
    "- What is parallelization and why is it important?\n",
    "- What is broadcasting?\n"
   ]
  }
 ],
 "metadata": {
  "language_info": {
   "name": "python"
  },
  "orig_nbformat": 4
 },
 "nbformat": 4,
 "nbformat_minor": 2
}
