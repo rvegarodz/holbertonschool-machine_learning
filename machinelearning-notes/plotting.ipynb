{
 "cells": [
  {
   "cell_type": "markdown",
   "metadata": {},
   "source": [
    "# Plotting"
   ]
  },
  {
   "cell_type": "markdown",
   "metadata": {},
   "source": [
    "## Learning Obectives\n",
    "\n",
    "- What is a plot?\n",
    "- What is a scatter plot? line graph? bar graph? histogram?\n",
    "- What is matplotlib?\n",
    "- How to plot data with matplotlib\n",
    "- How to label a plot\n",
    "- How to scale an axis\n",
    "- How to plot multiple sets of data at the same time"
   ]
  },
  {
   "cell_type": "markdown",
   "metadata": {},
   "source": [
    "### What is a plot?\n",
    "A plot is a graphical technique for representing a data set, usually as a graph showing the relationship between two or more variables."
   ]
  },
  {
   "cell_type": "markdown",
   "metadata": {},
   "source": [
    "### What is a scatter plot?\n",
    "\n",
    "- Scatter plot is a type of plot or mathematical diagram using Cartesian coordinates to display values for typically two variables for a set of data.\n",
    "- If the points are coded (color/shape/size), one additional variable can be displayed.\n",
    "- The data are displayed as a collection of points, each having the value of one variable determining the position on the horizontal axis and the value of the other variable determining the position on the vertical axis."
   ]
  },
  {
   "cell_type": "markdown",
   "metadata": {},
   "source": [
    "### What is a line chart or graph?\n",
    "\n",
    "- A line chart or line graph, also known as curve chart, is a type of chart which displays information as a series of data points called 'markers' connected by straight line segments. It is a basic type of chart common in many fields.\n",
    "- It is similar to a scatter plot except that the measurement points are ordered (typically by their x-axis value) and joined with straight line segments. \n",
    "- A line chart is often used to visualize a trend in data over intervals of time – a time series – thus the line is often drawn chronologically. In these cases they are known as run charts."
   ]
  },
  {
   "cell_type": "markdown",
   "metadata": {},
   "source": [
    "### What is a bar graph?\n",
    "- A bar chart or bar graph is a chart or graph that presents categorical data with rectangular bars with heights or lengths proportional to the values that they represent.\n",
    "- The bars can be plotted vertically or horizontally.\n",
    "- A vertical bar chart is sometimes called a column chart. "
   ]
  },
  {
   "cell_type": "markdown",
   "metadata": {},
   "source": [
    "### What is a histogram?\n",
    "\n",
    "need to read more... "
   ]
  }
 ],
 "metadata": {
  "language_info": {
   "name": "python"
  },
  "orig_nbformat": 4
 },
 "nbformat": 4,
 "nbformat_minor": 2
}
