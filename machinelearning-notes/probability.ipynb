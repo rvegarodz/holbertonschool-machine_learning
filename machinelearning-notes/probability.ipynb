{
 "cells": [
  {
   "cell_type": "markdown",
   "metadata": {},
   "source": [
    "# Probability"
   ]
  },
  {
   "cell_type": "markdown",
   "metadata": {},
   "source": [
    "### Learning Objectives\n",
    "\n",
    "\n",
    "- What is probability?\n",
    "- Basic probability notation\n",
    "- What is independence? What is disjoint?\n",
    "- What is a union? intersection?\n",
    "- What are the general addition and multiplication rules?\n",
    "- What is a probability distribution?\n",
    "- What is a probability distribution function? probability mass function?\n",
    "- What is a cumulative distribution function?\n",
    "- What is a percentile?\n",
    "- What is mean, standard deviation, and variance?\n",
    "- Common probability distributions"
   ]
  },
  {
   "cell_type": "markdown",
   "metadata": {},
   "source": [
    "### What is probability?\n",
    "\n",
    "Probability is the branch of mathematics concerning numerical descriptions of how likely an event is to occur, or how likely it is that a proposition is true. The probability of an event is a number between 0 and 1, where, roughly speaking, 0 indicates impossibility of the event and 1 indicates certainty."
   ]
  },
  {
   "cell_type": "markdown",
   "metadata": {},
   "source": [
    "### Basic probability notation\n",
    "\n",
    "- P(A) - probability that event A will occur.\n",
    "- P(A|B) - conditional probability that event A occurs, given that event B has occurred.\n",
    "- P(A′) - probability of the complement of event A.\n",
    "- P(A∩B) - probability of the intersection of events A and B.\n",
    "- P(A∪B) - probability of the union of events A and B.\n",
    "- E(X) - expected value of random variable X.\n",
    "- b(x;n,P) - binomial probability.\n",
    "- b∗(x;n,P) - negative binomial probability.\n",
    "- g(x;P) - geometric probability.\n",
    "- h(x;N,n,k) - hypergeometric probability."
   ]
  },
  {
   "cell_type": "markdown",
   "metadata": {},
   "source": [
    "### What is independence? What is disjoint?\n",
    "\n"
   ]
  },
  {
   "cell_type": "markdown",
   "metadata": {},
   "source": [
    "### Poisson Distribution:\n",
    "\n",
    "The Poisson probability mass function (PMF) is usually defined as:\n",
    "\n",
    "P(X=k) = (e^(-λ) * λ^k) / k!\n",
    "\n",
    "Where:\n",
    "- X is the random variable representing the number of events.\n",
    "- λ is the average rate of events.\n",
    "- k is the number of events.\n",
    "- e is the base of the natural logarithm."
   ]
  }
 ],
 "metadata": {
  "language_info": {
   "name": "python"
  },
  "orig_nbformat": 4
 },
 "nbformat": 4,
 "nbformat_minor": 2
}
